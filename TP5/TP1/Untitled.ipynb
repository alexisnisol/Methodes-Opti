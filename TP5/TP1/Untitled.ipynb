{
 "cells": [
  {
   "cell_type": "code",
   "execution_count": 29,
   "id": "89d2fc53",
   "metadata": {},
   "outputs": [],
   "source": [
    "import numpy as np\n",
    "X = np.array([[6,7], [5,6], [7,4], [6,4], [8,6], [9,5]])\n",
    "y = np.array([1, 1, 1, 1, 0, 0])\n",
    "x_new = [7,7]\n",
    "def predict_1NN(X, y, x_new):\n",
    "    ind = np.argmin(np.linalg.norm(X-x_new, axis=1))\n",
    "    return y[ind]"
   ]
  },
  {
   "cell_type": "code",
   "execution_count": 30,
   "id": "055d6c74",
   "metadata": {},
   "outputs": [
    {
     "data": {
      "text/plain": [
       "1"
      ]
     },
     "execution_count": 30,
     "metadata": {},
     "output_type": "execute_result"
    }
   ],
   "source": [
    "predict_1NN(X, y, x_new)"
   ]
  }
 ],
 "metadata": {
  "kernelspec": {
   "display_name": "Python 3 (ipykernel)",
   "language": "python",
   "name": "python3"
  },
  "language_info": {
   "codemirror_mode": {
    "name": "ipython",
    "version": 3
   },
   "file_extension": ".py",
   "mimetype": "text/x-python",
   "name": "python",
   "nbconvert_exporter": "python",
   "pygments_lexer": "ipython3",
   "version": "3.12.3"
  }
 },
 "nbformat": 4,
 "nbformat_minor": 5
}

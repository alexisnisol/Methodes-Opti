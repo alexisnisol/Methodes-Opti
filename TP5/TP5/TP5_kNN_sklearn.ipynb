{
 "cells": [
  {
   "cell_type": "markdown",
   "id": "0e89b5c8",
   "metadata": {},
   "source": [
    "# Les k-Plus Proches Voisins : en pratique"
   ]
  },
  {
   "cell_type": "markdown",
   "id": "6b339cb7",
   "metadata": {},
   "source": [
    "Dans le TP4 nous avons implémenté quelques méthodes de base en Machine Learning (Apprentissage Automatique) :\n",
    "- découpage train/test d'un dataset\n",
    "- normalisation\n",
    "- classification par k-PPV (méthode de base et variante pondérée)\n",
    "- évaluation d'un classifieur\n",
    "\n",
    "Le fait d'en écrire le code a permis d'en maîtriser le fonctionnement. Cependant, à l'avenir vous devrez utiliser des librairies qui proposent ces méthodes déjà implémentées."
   ]
  },
  {
   "cell_type": "markdown",
   "id": "55d7ce11",
   "metadata": {},
   "source": [
    "> [Scikit-learn](https://scikit-learn.org/) est une bibliothèque libre Python destinée à l'apprentissage automatique.\n",
    ">\n",
    "> Nous y retrouverons notamment :\n",
    "> - la méthode `train_test_split()` pour découper un dataset en deux sous-ensembles d'entraînement et de test\n",
    "> - les méthodes `MinMaxScaler()` et `StandardScaler()` pour normaliser le dataset\n",
    "> - la méthode `KNeighborsClassifier()` pour prédire par k-PPV\n",
    ">\n"
   ]
  },
  {
   "cell_type": "markdown",
   "id": "388e831c",
   "metadata": {},
   "source": [
    "Vous commencerez par installer la bibliothèque sur votre machine : `pip install scikit-learn`"
   ]
  },
  {
   "cell_type": "markdown",
   "id": "876db04d",
   "metadata": {},
   "source": [
    "---"
   ]
  },
  {
   "cell_type": "markdown",
   "id": "18ab4e58",
   "metadata": {},
   "source": [
    "### Exercice 1 : prise en main de Scikit-learn"
   ]
  },
  {
   "cell_type": "markdown",
   "id": "9ebfda61",
   "metadata": {},
   "source": [
    "1. Comme dans le TP4, chargez les données `zoo.csv` dans un Dataframe puis en extraire deux tableaux NumPy `X` (matrice 100x16) et `y` (vecteur des 100 labels de classe)"
   ]
  },
  {
   "cell_type": "code",
   "execution_count": 23,
   "id": "cc3e2ffc",
   "metadata": {},
   "outputs": [
    {
     "name": "stdout",
     "output_type": "stream",
     "text": [
      "(array([1, 2, 3, 4, 5, 6, 7]), array([18, 10,  3,  8,  2,  3,  6]))\n",
      "(array([1, 2, 3, 4, 5, 6, 7]), array([23, 10,  2,  5,  1,  5,  4]))\n"
     ]
    }
   ],
   "source": [
    "import pandas as pd\n",
    "import numpy as np\n",
    "import matplotlib.pyplot as plt\n",
    "from sklearn.model_selection import train_test_split\n",
    "\n",
    "zoo = pd.read_csv(\"./donnees/zoo.csv\")\n",
    "\n",
    "X = np.array(zoo.iloc[:, 1:-1])\n",
    "y = np.array(zoo['type'])\n",
    "\n",
    "X_train, X_test, y_train, y_test = train_test_split(X, y, train_size=0.5)\n",
    "print(np.unique(y_train, return_counts=True))\n",
    "print(np.unique(y_test, return_counts=True))"
   ]
  },
  {
   "cell_type": "markdown",
   "id": "95f2ce95",
   "metadata": {},
   "source": [
    "2. Procédez au découpage du dataset (`X` et `y`) en deux sous-ensembles de même taille (`X_train`, `X_test`, `y_train`, `y_test`) en utilisant la méthode `train_test_split()` de Scikit-learn (consultez la documentation). Puis vérifiez l'équilibre des classes entre les deux sous-ensembles."
   ]
  },
  {
   "cell_type": "code",
   "execution_count": 12,
   "id": "322e3ca6",
   "metadata": {},
   "outputs": [
    {
     "name": "stdout",
     "output_type": "stream",
     "text": [
      "(array([1, 2, 3, 4, 5, 6, 7]), array([21,  9,  3,  4,  1,  6,  6]))\n",
      "(array([1, 2, 3, 4, 5, 6, 7]), array([20, 11,  2,  9,  2,  2,  4]))\n"
     ]
    }
   ],
   "source": [
    "from sklearn.model_selection import train_test_split"
   ]
  },
  {
   "cell_type": "markdown",
   "id": "cc10fc65",
   "metadata": {},
   "source": [
    "3. Normalisez les données en utilisant au choix l'une des méthodes suivantes : `MinMaxScaler()` ou `StandardScaler()` (consultez la doc)"
   ]
  },
  {
   "cell_type": "code",
   "execution_count": 15,
   "id": "986c9a01",
   "metadata": {},
   "outputs": [],
   "source": [
    "# normalisation min/max z = (x-min)/(max-min)\n",
    "from sklearn.preprocessing import MinMaxScaler\n",
    "\n",
    "scaler = StandardScaler"
   ]
  },
  {
   "cell_type": "code",
   "execution_count": 10,
   "id": "908a3769",
   "metadata": {},
   "outputs": [
    {
     "data": {
      "text/plain": [
       "array([[-0.71774056, -0.531085  ,  0.68599434, -0.68599434, -0.62360956,\n",
       "        -0.81649658, -1.22474487, -1.12815215, -2.        ,  0.59274898,\n",
       "        -0.29488391, -0.5       , -1.22634105, -1.60356745, -0.36927447,\n",
       "        -0.84101206],\n",
       "       [ 1.39326109, -0.531085  , -1.45773797,  1.45773797, -0.62360956,\n",
       "        -0.81649658, -1.22474487,  0.88640526,  0.5       ,  0.59274898,\n",
       "        -0.29488391, -0.5       ,  0.75162838,  0.62360956,  2.7080128 ,\n",
       "         0.4098735 ],\n",
       "       [-0.71774056, -0.531085  ,  0.68599434, -0.68599434, -0.62360956,\n",
       "         1.22474487,  0.81649658,  0.88640526,  0.5       , -1.68705478,\n",
       "        -0.29488391,  2.        , -1.22634105,  0.62360956, -0.36927447,\n",
       "         0.17160959],\n",
       "       [-0.71774056, -0.531085  ,  0.68599434, -0.68599434, -0.62360956,\n",
       "         1.22474487,  0.81649658, -1.12815215, -2.        , -1.68705478,\n",
       "        -0.29488391, -0.5       ,  1.7406131 , -1.60356745, -0.36927447,\n",
       "        -0.4240502 ],\n",
       "       [-0.71774056,  1.88293774,  0.68599434, -0.68599434, -0.62360956,\n",
       "         1.22474487,  0.81649658, -1.12815215,  0.5       ,  0.59274898,\n",
       "        -0.29488391, -0.5       , -0.23735633,  0.62360956, -0.36927447,\n",
       "        -0.25726546],\n",
       "       [ 1.39326109, -0.531085  , -1.45773797,  1.45773797,  1.60356745,\n",
       "        -0.81649658, -1.22474487,  0.88640526,  0.5       ,  0.59274898,\n",
       "        -0.29488391, -0.5       , -0.23735633,  0.62360956, -0.36927447,\n",
       "        -0.92440443],\n",
       "       [-0.71774056, -0.531085  ,  0.68599434, -0.68599434, -0.62360956,\n",
       "         1.22474487,  0.81649658,  0.88640526,  0.5       , -1.68705478,\n",
       "        -0.29488391,  2.        , -1.22634105,  0.62360956, -0.36927447,\n",
       "        -0.90057804],\n",
       "       [-0.71774056,  1.88293774,  0.68599434, -0.68599434,  1.60356745,\n",
       "        -0.81649658,  0.81649658, -1.12815215,  0.5       ,  0.59274898,\n",
       "        -0.29488391, -0.5       , -0.23735633,  0.62360956, -0.36927447,\n",
       "        -0.53126897],\n",
       "       [-0.71774056,  1.88293774,  0.68599434, -0.68599434,  1.60356745,\n",
       "        -0.81649658,  0.81649658, -1.12815215,  0.5       ,  0.59274898,\n",
       "        -0.29488391, -0.5       , -0.23735633,  0.62360956, -0.36927447,\n",
       "        -0.1619599 ],\n",
       "       [ 1.39326109, -0.531085  , -1.45773797,  1.45773797, -0.62360956,\n",
       "        -0.81649658,  0.81649658,  0.88640526,  0.5       ,  0.59274898,\n",
       "        -0.29488391, -0.5       ,  0.75162838,  0.62360956, -0.36927447,\n",
       "         0.64813742],\n",
       "       [-0.71774056, -0.531085  ,  0.68599434, -0.68599434, -0.62360956,\n",
       "         1.22474487,  0.81649658,  0.88640526,  0.5       ,  0.59274898,\n",
       "        -0.29488391, -0.5       ,  0.75162838,  0.62360956, -0.36927447,\n",
       "        -0.87675164],\n",
       "       [ 1.39326109, -0.531085  , -1.45773797,  1.45773797, -0.62360956,\n",
       "         1.22474487,  0.81649658,  0.88640526,  0.5       ,  0.59274898,\n",
       "        -0.29488391,  2.        , -1.22634105, -1.60356745, -0.36927447,\n",
       "         3.50730441],\n",
       "       [ 1.39326109, -0.531085  , -1.45773797,  1.45773797, -0.62360956,\n",
       "        -0.81649658,  0.81649658,  0.88640526,  0.5       ,  0.59274898,\n",
       "        -0.29488391, -0.5       ,  0.75162838,  0.62360956, -0.36927447,\n",
       "         0.4098735 ],\n",
       "       [ 1.39326109, -0.531085  ,  0.68599434, -0.68599434,  1.60356745,\n",
       "        -0.81649658, -1.22474487, -1.12815215, -2.        ,  0.59274898,\n",
       "         3.39116499, -0.5       ,  1.7406131 , -1.60356745,  2.7080128 ,\n",
       "        -1.00898812],\n",
       "       [-0.71774056,  1.88293774,  0.68599434, -0.68599434,  1.60356745,\n",
       "         1.22474487,  0.81649658, -1.12815215,  0.5       ,  0.59274898,\n",
       "        -0.29488391, -0.5       , -0.23735633,  0.62360956, -0.36927447,\n",
       "        -1.01613603],\n",
       "       [-0.71774056, -0.531085  ,  0.68599434, -0.68599434, -0.62360956,\n",
       "        -0.81649658, -1.22474487, -1.12815215, -2.        ,  0.59274898,\n",
       "        -0.29488391, -0.5       ,  1.7406131 , -1.60356745, -0.36927447,\n",
       "        -1.01673169],\n",
       "       [ 1.39326109, -0.531085  , -1.45773797,  1.45773797, -0.62360956,\n",
       "        -0.81649658, -1.22474487,  0.88640526,  0.5       ,  0.59274898,\n",
       "        -0.29488391, -0.5       ,  0.75162838,  0.62360956,  2.7080128 ,\n",
       "         0.17160959],\n",
       "       [-0.71774056, -0.531085  , -1.45773797,  1.45773797, -0.62360956,\n",
       "         1.22474487,  0.81649658,  0.88640526,  0.5       ,  0.59274898,\n",
       "        -0.29488391,  2.        , -1.22634105,  0.62360956, -0.36927447,\n",
       "         1.06509927],\n",
       "       [ 1.39326109, -0.531085  , -1.45773797,  1.45773797, -0.62360956,\n",
       "        -0.81649658,  0.81649658,  0.88640526,  0.5       ,  0.59274898,\n",
       "        -0.29488391, -0.5       ,  0.75162838,  0.62360956, -0.36927447,\n",
       "         1.48206112],\n",
       "       [-0.71774056, -0.531085  ,  0.68599434, -0.68599434, -0.62360956,\n",
       "         1.22474487,  0.81649658,  0.88640526,  0.5       , -1.68705478,\n",
       "        -0.29488391,  2.        , -1.22634105,  0.62360956, -0.36927447,\n",
       "        -0.87675164],\n",
       "       [ 1.39326109, -0.531085  , -1.45773797,  1.45773797, -0.62360956,\n",
       "        -0.81649658, -1.22474487,  0.88640526,  0.5       ,  0.59274898,\n",
       "        -0.29488391, -0.5       ,  0.75162838,  0.62360956, -0.36927447,\n",
       "        -0.80527247],\n",
       "       [-0.71774056,  1.88293774,  0.68599434, -0.68599434,  1.60356745,\n",
       "        -0.81649658,  0.81649658, -1.12815215,  0.5       ,  0.59274898,\n",
       "        -0.29488391, -0.5       , -0.23735633,  0.62360956, -0.36927447,\n",
       "        -0.75761969],\n",
       "       [-0.71774056, -0.531085  ,  0.68599434, -0.68599434, -0.62360956,\n",
       "         1.22474487,  0.81649658,  0.88640526,  0.5       , -1.68705478,\n",
       "         3.39116499,  2.        , -1.22634105,  0.62360956, -0.36927447,\n",
       "         0.4098735 ],\n",
       "       [-0.71774056, -0.531085  ,  0.68599434, -0.68599434, -0.62360956,\n",
       "        -0.81649658,  0.81649658,  0.88640526,  0.5       ,  0.59274898,\n",
       "         3.39116499, -0.5       , -1.22634105,  0.62360956, -0.36927447,\n",
       "         1.36292916],\n",
       "       [ 1.39326109, -0.531085  , -1.45773797,  1.45773797, -0.62360956,\n",
       "        -0.81649658,  0.81649658,  0.88640526,  0.5       ,  0.59274898,\n",
       "        -0.29488391, -0.5       ,  0.75162838,  0.62360956, -0.36927447,\n",
       "        -0.12622031],\n",
       "       [ 1.39326109, -0.531085  , -1.45773797,  1.45773797,  1.60356745,\n",
       "        -0.81649658, -1.22474487,  0.88640526,  0.5       ,  0.59274898,\n",
       "        -0.29488391, -0.5       , -0.23735633,  0.62360956, -0.36927447,\n",
       "         0.4098735 ],\n",
       "       [-0.71774056,  1.88293774,  0.68599434, -0.68599434,  1.60356745,\n",
       "         1.22474487,  0.81649658, -1.12815215,  0.5       ,  0.59274898,\n",
       "        -0.29488391, -0.5       , -0.23735633,  0.62360956, -0.36927447,\n",
       "        -0.37639742],\n",
       "       [-0.71774056,  1.88293774,  0.68599434, -0.68599434, -0.62360956,\n",
       "        -0.81649658, -1.22474487, -1.12815215,  0.5       ,  0.59274898,\n",
       "        -0.29488391, -0.5       , -0.23735633,  0.62360956, -0.36927447,\n",
       "         1.72032504],\n",
       "       [-0.71774056,  1.88293774,  0.68599434, -0.68599434,  1.60356745,\n",
       "        -0.81649658, -1.22474487, -1.12815215,  0.5       ,  0.59274898,\n",
       "        -0.29488391, -0.5       , -0.23735633,  0.62360956,  2.7080128 ,\n",
       "        -0.66231412],\n",
       "       [-0.71774056, -0.531085  ,  0.68599434, -0.68599434, -0.62360956,\n",
       "        -0.81649658,  0.81649658, -1.12815215, -2.        , -1.68705478,\n",
       "        -0.29488391, -0.5       , -1.22634105, -1.60356745, -0.36927447,\n",
       "        -0.93631762],\n",
       "       [-0.71774056, -0.531085  ,  0.68599434, -0.68599434, -0.62360956,\n",
       "         1.22474487,  0.81649658,  0.88640526,  0.5       , -1.68705478,\n",
       "        -0.29488391,  2.        , -1.22634105,  0.62360956, -0.36927447,\n",
       "        -0.54318216],\n",
       "       [-0.71774056, -0.531085  ,  0.68599434, -0.68599434, -0.62360956,\n",
       "         1.22474487, -1.22474487,  0.88640526,  0.5       ,  0.59274898,\n",
       "        -0.29488391, -0.5       ,  0.75162838, -1.60356745, -0.36927447,\n",
       "        -0.85292525],\n",
       "       [-0.71774056, -0.531085  ,  0.68599434, -0.68599434, -0.62360956,\n",
       "         1.22474487, -1.22474487,  0.88640526,  0.5       , -1.68705478,\n",
       "        -0.29488391,  2.        , -1.22634105,  0.62360956, -0.36927447,\n",
       "        -0.66231412],\n",
       "       [-0.71774056, -0.531085  ,  0.68599434, -0.68599434, -0.62360956,\n",
       "         1.22474487,  0.81649658, -1.12815215, -2.        , -1.68705478,\n",
       "         3.39116499, -0.5       , -1.22634105, -1.60356745, -0.36927447,\n",
       "         0.76726937],\n",
       "       [-0.71774056, -0.531085  ,  0.68599434, -0.68599434, -0.62360956,\n",
       "        -0.81649658,  0.81649658,  0.88640526,  0.5       ,  0.59274898,\n",
       "        -0.29488391, -0.5       , -1.22634105,  0.62360956, -0.36927447,\n",
       "        -0.60274814],\n",
       "       [-0.71774056, -0.531085  ,  0.68599434, -0.68599434, -0.62360956,\n",
       "         1.22474487,  0.81649658,  0.88640526,  0.5       , -1.68705478,\n",
       "        -0.29488391,  2.        , -1.22634105,  0.62360956, -0.36927447,\n",
       "         0.4098735 ],\n",
       "       [-0.71774056, -0.531085  ,  0.68599434, -0.68599434, -0.62360956,\n",
       "         1.22474487,  0.81649658,  0.88640526,  0.5       , -1.68705478,\n",
       "        -0.29488391,  2.        , -1.22634105,  0.62360956, -0.36927447,\n",
       "         1.36292916],\n",
       "       [-0.71774056,  1.88293774,  0.68599434, -0.68599434,  1.60356745,\n",
       "        -0.81649658, -1.22474487, -1.12815215,  0.5       ,  0.59274898,\n",
       "        -0.29488391, -0.5       , -0.23735633,  0.62360956, -0.36927447,\n",
       "        -0.85292525],\n",
       "       [ 1.39326109, -0.531085  , -1.45773797,  1.45773797, -0.62360956,\n",
       "        -0.81649658, -1.22474487,  0.88640526,  0.5       ,  0.59274898,\n",
       "        -0.29488391, -0.5       , -0.23735633, -1.60356745, -0.36927447,\n",
       "         0.88640133],\n",
       "       [-0.71774056, -0.531085  ,  0.68599434, -0.68599434, -0.62360956,\n",
       "         1.22474487,  0.81649658, -1.12815215, -2.        , -1.68705478,\n",
       "        -0.29488391, -0.5       ,  1.7406131 , -1.60356745, -0.36927447,\n",
       "        -0.81122907],\n",
       "       [-0.71774056, -0.531085  ,  0.68599434, -0.68599434,  1.60356745,\n",
       "        -0.81649658,  0.81649658, -1.12815215, -2.        ,  0.59274898,\n",
       "        -0.29488391, -0.5       ,  1.7406131 , -1.60356745, -0.36927447,\n",
       "        -1.01017944],\n",
       "       [ 1.39326109, -0.531085  ,  0.68599434, -0.68599434,  1.60356745,\n",
       "        -0.81649658, -1.22474487, -1.12815215, -2.        ,  0.59274898,\n",
       "        -0.29488391, -0.5       ,  1.7406131 , -1.60356745, -0.36927447,\n",
       "        -0.84101206],\n",
       "       [ 1.39326109, -0.531085  , -1.45773797,  1.45773797, -0.62360956,\n",
       "        -0.81649658,  0.81649658,  0.88640526,  0.5       ,  0.59274898,\n",
       "        -0.29488391, -0.5       ,  0.75162838,  0.62360956, -0.36927447,\n",
       "         0.88640133],\n",
       "       [ 1.39326109, -0.531085  , -1.45773797,  1.45773797, -0.62360956,\n",
       "        -0.81649658, -1.22474487,  0.88640526,  0.5       ,  0.59274898,\n",
       "        -0.29488391, -0.5       ,  0.75162838,  0.62360956, -0.36927447,\n",
       "         2.31598483],\n",
       "       [ 1.39326109, -0.531085  , -1.45773797,  1.45773797, -0.62360956,\n",
       "        -0.81649658,  0.81649658,  0.88640526,  0.5       ,  0.59274898,\n",
       "        -0.29488391, -0.5       ,  0.75162838, -1.60356745, -0.36927447,\n",
       "         1.48206112],\n",
       "       [ 1.39326109, -0.531085  , -1.45773797,  1.45773797, -0.62360956,\n",
       "        -0.81649658, -1.22474487,  0.88640526,  0.5       ,  0.59274898,\n",
       "        -0.29488391, -0.5       ,  0.75162838,  0.62360956,  2.7080128 ,\n",
       "         0.11204361],\n",
       "       [-0.71774056,  1.88293774,  0.68599434, -0.68599434,  1.60356745,\n",
       "        -0.81649658, -1.22474487, -1.12815215,  0.5       ,  0.59274898,\n",
       "        -0.29488391, -0.5       , -0.23735633,  0.62360956,  2.7080128 ,\n",
       "        -0.66231412],\n",
       "       [-0.71774056,  1.88293774,  0.68599434, -0.68599434,  1.60356745,\n",
       "         1.22474487, -1.22474487, -1.12815215,  0.5       ,  0.59274898,\n",
       "        -0.29488391, -0.5       , -0.23735633,  0.62360956, -0.36927447,\n",
       "         0.46943948],\n",
       "       [-0.71774056, -0.531085  ,  0.68599434, -0.68599434, -0.62360956,\n",
       "        -0.81649658, -1.22474487, -1.12815215,  0.5       ,  0.59274898,\n",
       "        -0.29488391, -0.5       ,  0.75162838,  0.62360956, -0.36927447,\n",
       "        -0.26917866],\n",
       "       [-0.71774056, -0.531085  ,  0.68599434, -0.68599434, -0.62360956,\n",
       "         1.22474487,  0.81649658, -1.12815215, -2.        , -1.68705478,\n",
       "        -0.29488391, -0.5       ,  0.75162838, -1.60356745, -0.36927447,\n",
       "        -0.85292525]])"
      ]
     },
     "execution_count": 10,
     "metadata": {},
     "output_type": "execute_result"
    }
   ],
   "source": [
    "# normalisation centrée réduite z = (x-u)/s avec u la moyenne et s l'écart type\n",
    "from sklearn.preprocessing import StandardScaler\n",
    "\n",
    "scaler = StandardScaler()\n",
    "scaler.fit(X_train)\n",
    "\n",
    "Xn_train = scaler.transform(X_train)\n",
    "xn_test = scaler.transform(X_test)\n",
    "Xn_train"
   ]
  },
  {
   "cell_type": "markdown",
   "id": "1dfa9e4a",
   "metadata": {},
   "source": [
    "4. Utilisez la classe `KNeighborsClassifier` de Scikit-learn pour prédire les classes de chaque données de l'ensemble `X_test` par la méthode k-PPV (non-pondérée) avec $k=2$ (consultez la documentation)"
   ]
  },
  {
   "cell_type": "code",
   "execution_count": 16,
   "id": "26a53a10",
   "metadata": {},
   "outputs": [],
   "source": [
    "from sklearn.neighbors import KNeighborsClassifier\n",
    "\n",
    "classifier = KNeighborsClassifier(n_neighbors=2, weights='distance', algorithm='brute')\n",
    "classifier.fit(Xn_train, y_train)\n",
    "\n",
    "y_pred = classifier.predict(xn_test)"
   ]
  },
  {
   "cell_type": "markdown",
   "id": "b2387478",
   "metadata": {},
   "source": [
    "5. Evaluez ce classifieur en calculant le taux d'erreurs"
   ]
  },
  {
   "cell_type": "code",
   "execution_count": 17,
   "id": "d60f8d39",
   "metadata": {},
   "outputs": [
    {
     "data": {
      "text/plain": [
       "0.04"
      ]
     },
     "execution_count": 17,
     "metadata": {},
     "output_type": "execute_result"
    }
   ],
   "source": [
    "def error_prediction(y_pred, y):\n",
    "    return sum(y_pred != y) / y.size\n",
    "\n",
    "error_prediction(y_pred, y_test)"
   ]
  },
  {
   "cell_type": "code",
   "execution_count": 20,
   "id": "9fef31e1",
   "metadata": {},
   "outputs": [],
   "source": [
    "def eval_parameter(k, Xn_train, Xn_test, y_train, y_test):\n",
    "    classifier = KNeighborsClassifier(n_neighbors=k, weights='distance', algorithm='brute')\n",
    "    classifier.fit(Xn_train, y_train)\n",
    "    \n",
    "    y_pred = classifier.predict(xn_test)\n",
    "    return error_prediction(y_pred, y_test)"
   ]
  },
  {
   "cell_type": "code",
   "execution_count": 24,
   "id": "1d15324d",
   "metadata": {},
   "outputs": [
    {
     "data": {
      "image/png": "[encoded data removed]",
      "text/plain": [
       "<Figure size 640x480 with 1 Axes>"
      ]
     },
     "metadata": {},
     "output_type": "display_data"
    }
   ],
   "source": [
    "errors = [eval_parameter(k, Xn_train, xn_test, y_train, y_test) for k in range(1,21)]\n",
    "plt.plot(range(1,21), errors)\n",
    "plt.show()"
   ]
  },
  {
   "cell_type": "markdown",
   "id": "d8042941",
   "metadata": {},
   "source": [
    "6. Modifiez les paramètres du classifieur (question 4) pour tester (et évaluer) différentes méthodes de prédication :\n",
    "- différentes valeurs pour $k$\n",
    "- avec ou sans normalisation des données\n",
    "- variante pondérée de k-PPV\n",
    "- etc."
   ]
  },
  {
   "cell_type": "code",
   "execution_count": null,
   "id": "a039fcef",
   "metadata": {},
   "outputs": [],
   "source": []
  },
  {
   "cell_type": "markdown",
   "id": "612be116",
   "metadata": {},
   "source": [
    "---"
   ]
  },
  {
   "cell_type": "markdown",
   "id": "8ce1cc98",
   "metadata": {},
   "source": [
    "### Exercice 2 : pour vous entraîner... et aller plus loin"
   ]
  },
  {
   "cell_type": "markdown",
   "id": "587e0aa5",
   "metadata": {},
   "source": [
    "Vous trouverez deux nouveaux datasets dans le repertoire `donnees` :\n",
    "- le dataset `iris` : contenant les descriptions de fleurs (iris) selon 4 descripteurs numériques. La tâche de prédiction porte sur le type d'Iris (3 catégories).\n",
    "\n",
    "- le dataset `card_transdata` : contenant les descriptions de transactions par cartes bancaires selont 7 descripteurs numériques ou booléens. La tâche de prédiction consiste à détecter les fraudes (2 catégories).\n",
    "\n",
    "Votre travail consiste, pour chacune des deux tâches de prédiction ci-dessus, à proposer un classifieur de type k-PPV le plus efficace possible. "
   ]
  }
 ],
 "metadata": {
  "kernelspec": {
   "display_name": "Python 3 (ipykernel)",
   "language": "python",
   "name": "python3"
  },
  "language_info": {
   "codemirror_mode": {
    "name": "ipython",
    "version": 3
   },
   "file_extension": ".py",
   "mimetype": "text/x-python",
   "name": "python",
   "nbconvert_exporter": "python",
   "pygments_lexer": "ipython3",
   "version": "3.12.3"
  },
  "vscode": {
   "interpreter": {
    "hash": "aee8b7b246df8f9039afb4144a1f6fd8d2ca17a180786b69acc140d282b71a49"
   }
  }
 },
 "nbformat": 4,
 "nbformat_minor": 5
}

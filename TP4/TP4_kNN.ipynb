{
 "cells": [
  {
   "cell_type": "markdown",
   "id": "0e89b5c8",
   "metadata": {},
   "source": [
    "# Classer avec la méthode des k-Plus Proches Voisins"
   ]
  },
  {
   "cell_type": "markdown",
   "id": "0ef48153",
   "metadata": {},
   "source": [
    "Dans ce TP nous allons implémenter notre première Intelligence Artificielle à partir de la méthode des k-Plus Proches Voisins étudiée en TD. Nous allons implémenter, tester, évaluer et étudier cette méthode de classification sur un jeu de données réelles."
   ]
  },
  {
   "cell_type": "markdown",
   "id": "654024ae",
   "metadata": {},
   "source": [
    "## A. Charger, explorer puis préparer le tableau de données"
   ]
  },
  {
   "cell_type": "markdown",
   "id": "10531ce6",
   "metadata": {},
   "source": [
    "Commencez par importer dans un Dataframe `zoo` les données du fichier `zoo.csv`."
   ]
  },
  {
   "cell_type": "code",
   "execution_count": 1,
   "id": "ff2955e4",
   "metadata": {},
   "outputs": [
    {
     "data": {
      "text/html": [
       "<div>\n",
       "<style scoped>\n",
       "    .dataframe tbody tr th:only-of-type {\n",
       "        vertical-align: middle;\n",
       "    }\n",
       "\n",
       "    .dataframe tbody tr th {\n",
       "        vertical-align: top;\n",
       "    }\n",
       "\n",
       "    .dataframe thead th {\n",
       "        text-align: right;\n",
       "    }\n",
       "</style>\n",
       "<table border=\"1\" class=\"dataframe\">\n",
       "  <thead>\n",
       "    <tr style=\"text-align: right;\">\n",
       "      <th></th>\n",
       "      <th>Name</th>\n",
       "      <th>hair</th>\n",
       "      <th>feathers</th>\n",
       "      <th>eggs</th>\n",
       "      <th>milk</th>\n",
       "      <th>airbone</th>\n",
       "      <th>aquatic</th>\n",
       "      <th>predator</th>\n",
       "      <th>toothed</th>\n",
       "      <th>backbone</th>\n",
       "      <th>breathes</th>\n",
       "      <th>venomous</th>\n",
       "      <th>fins</th>\n",
       "      <th>legs</th>\n",
       "      <th>tail</th>\n",
       "      <th>domestic</th>\n",
       "      <th>size</th>\n",
       "      <th>type</th>\n",
       "    </tr>\n",
       "  </thead>\n",
       "  <tbody>\n",
       "    <tr>\n",
       "      <th>0</th>\n",
       "      <td>aardvark</td>\n",
       "      <td>1</td>\n",
       "      <td>0</td>\n",
       "      <td>0</td>\n",
       "      <td>1</td>\n",
       "      <td>0</td>\n",
       "      <td>0</td>\n",
       "      <td>1</td>\n",
       "      <td>1</td>\n",
       "      <td>1</td>\n",
       "      <td>1</td>\n",
       "      <td>0</td>\n",
       "      <td>0</td>\n",
       "      <td>4</td>\n",
       "      <td>0</td>\n",
       "      <td>0</td>\n",
       "      <td>115.0</td>\n",
       "      <td>1</td>\n",
       "    </tr>\n",
       "    <tr>\n",
       "      <th>1</th>\n",
       "      <td>antelope</td>\n",
       "      <td>1</td>\n",
       "      <td>0</td>\n",
       "      <td>0</td>\n",
       "      <td>1</td>\n",
       "      <td>0</td>\n",
       "      <td>0</td>\n",
       "      <td>0</td>\n",
       "      <td>1</td>\n",
       "      <td>1</td>\n",
       "      <td>1</td>\n",
       "      <td>0</td>\n",
       "      <td>0</td>\n",
       "      <td>4</td>\n",
       "      <td>1</td>\n",
       "      <td>0</td>\n",
       "      <td>75.0</td>\n",
       "      <td>1</td>\n",
       "    </tr>\n",
       "    <tr>\n",
       "      <th>2</th>\n",
       "      <td>bass</td>\n",
       "      <td>0</td>\n",
       "      <td>0</td>\n",
       "      <td>1</td>\n",
       "      <td>0</td>\n",
       "      <td>0</td>\n",
       "      <td>1</td>\n",
       "      <td>1</td>\n",
       "      <td>1</td>\n",
       "      <td>1</td>\n",
       "      <td>0</td>\n",
       "      <td>0</td>\n",
       "      <td>1</td>\n",
       "      <td>0</td>\n",
       "      <td>1</td>\n",
       "      <td>0</td>\n",
       "      <td>40.0</td>\n",
       "      <td>4</td>\n",
       "    </tr>\n",
       "    <tr>\n",
       "      <th>3</th>\n",
       "      <td>bear</td>\n",
       "      <td>1</td>\n",
       "      <td>0</td>\n",
       "      <td>0</td>\n",
       "      <td>1</td>\n",
       "      <td>0</td>\n",
       "      <td>0</td>\n",
       "      <td>1</td>\n",
       "      <td>1</td>\n",
       "      <td>1</td>\n",
       "      <td>1</td>\n",
       "      <td>0</td>\n",
       "      <td>0</td>\n",
       "      <td>4</td>\n",
       "      <td>0</td>\n",
       "      <td>0</td>\n",
       "      <td>210.0</td>\n",
       "      <td>1</td>\n",
       "    </tr>\n",
       "    <tr>\n",
       "      <th>4</th>\n",
       "      <td>boar</td>\n",
       "      <td>1</td>\n",
       "      <td>0</td>\n",
       "      <td>0</td>\n",
       "      <td>1</td>\n",
       "      <td>0</td>\n",
       "      <td>0</td>\n",
       "      <td>1</td>\n",
       "      <td>1</td>\n",
       "      <td>1</td>\n",
       "      <td>1</td>\n",
       "      <td>0</td>\n",
       "      <td>0</td>\n",
       "      <td>4</td>\n",
       "      <td>1</td>\n",
       "      <td>0</td>\n",
       "      <td>120.0</td>\n",
       "      <td>1</td>\n",
       "    </tr>\n",
       "    <tr>\n",
       "      <th>5</th>\n",
       "      <td>buffalo</td>\n",
       "      <td>1</td>\n",
       "      <td>0</td>\n",
       "      <td>0</td>\n",
       "      <td>1</td>\n",
       "      <td>0</td>\n",
       "      <td>0</td>\n",
       "      <td>0</td>\n",
       "      <td>1</td>\n",
       "      <td>1</td>\n",
       "      <td>1</td>\n",
       "      <td>0</td>\n",
       "      <td>0</td>\n",
       "      <td>4</td>\n",
       "      <td>1</td>\n",
       "      <td>0</td>\n",
       "      <td>280.0</td>\n",
       "      <td>1</td>\n",
       "    </tr>\n",
       "    <tr>\n",
       "      <th>6</th>\n",
       "      <td>calf</td>\n",
       "      <td>1</td>\n",
       "      <td>0</td>\n",
       "      <td>0</td>\n",
       "      <td>1</td>\n",
       "      <td>0</td>\n",
       "      <td>0</td>\n",
       "      <td>0</td>\n",
       "      <td>1</td>\n",
       "      <td>1</td>\n",
       "      <td>1</td>\n",
       "      <td>0</td>\n",
       "      <td>0</td>\n",
       "      <td>4</td>\n",
       "      <td>1</td>\n",
       "      <td>1</td>\n",
       "      <td>100.0</td>\n",
       "      <td>1</td>\n",
       "    </tr>\n",
       "    <tr>\n",
       "      <th>7</th>\n",
       "      <td>carp</td>\n",
       "      <td>0</td>\n",
       "      <td>0</td>\n",
       "      <td>1</td>\n",
       "      <td>0</td>\n",
       "      <td>0</td>\n",
       "      <td>1</td>\n",
       "      <td>0</td>\n",
       "      <td>1</td>\n",
       "      <td>1</td>\n",
       "      <td>0</td>\n",
       "      <td>0</td>\n",
       "      <td>1</td>\n",
       "      <td>0</td>\n",
       "      <td>1</td>\n",
       "      <td>1</td>\n",
       "      <td>60.0</td>\n",
       "      <td>4</td>\n",
       "    </tr>\n",
       "    <tr>\n",
       "      <th>8</th>\n",
       "      <td>catfish</td>\n",
       "      <td>0</td>\n",
       "      <td>0</td>\n",
       "      <td>1</td>\n",
       "      <td>0</td>\n",
       "      <td>0</td>\n",
       "      <td>1</td>\n",
       "      <td>1</td>\n",
       "      <td>1</td>\n",
       "      <td>1</td>\n",
       "      <td>0</td>\n",
       "      <td>0</td>\n",
       "      <td>1</td>\n",
       "      <td>0</td>\n",
       "      <td>1</td>\n",
       "      <td>0</td>\n",
       "      <td>12.0</td>\n",
       "      <td>4</td>\n",
       "    </tr>\n",
       "    <tr>\n",
       "      <th>9</th>\n",
       "      <td>cavy</td>\n",
       "      <td>1</td>\n",
       "      <td>0</td>\n",
       "      <td>0</td>\n",
       "      <td>1</td>\n",
       "      <td>0</td>\n",
       "      <td>0</td>\n",
       "      <td>0</td>\n",
       "      <td>1</td>\n",
       "      <td>1</td>\n",
       "      <td>1</td>\n",
       "      <td>0</td>\n",
       "      <td>0</td>\n",
       "      <td>4</td>\n",
       "      <td>0</td>\n",
       "      <td>1</td>\n",
       "      <td>45.0</td>\n",
       "      <td>1</td>\n",
       "    </tr>\n",
       "    <tr>\n",
       "      <th>10</th>\n",
       "      <td>cheetah</td>\n",
       "      <td>1</td>\n",
       "      <td>0</td>\n",
       "      <td>0</td>\n",
       "      <td>1</td>\n",
       "      <td>0</td>\n",
       "      <td>0</td>\n",
       "      <td>1</td>\n",
       "      <td>1</td>\n",
       "      <td>1</td>\n",
       "      <td>1</td>\n",
       "      <td>0</td>\n",
       "      <td>0</td>\n",
       "      <td>4</td>\n",
       "      <td>1</td>\n",
       "      <td>0</td>\n",
       "      <td>140.0</td>\n",
       "      <td>1</td>\n",
       "    </tr>\n",
       "    <tr>\n",
       "      <th>11</th>\n",
       "      <td>chicken</td>\n",
       "      <td>0</td>\n",
       "      <td>1</td>\n",
       "      <td>1</td>\n",
       "      <td>0</td>\n",
       "      <td>1</td>\n",
       "      <td>0</td>\n",
       "      <td>0</td>\n",
       "      <td>0</td>\n",
       "      <td>1</td>\n",
       "      <td>1</td>\n",
       "      <td>0</td>\n",
       "      <td>0</td>\n",
       "      <td>2</td>\n",
       "      <td>1</td>\n",
       "      <td>1</td>\n",
       "      <td>30.0</td>\n",
       "      <td>2</td>\n",
       "    </tr>\n",
       "    <tr>\n",
       "      <th>12</th>\n",
       "      <td>chub</td>\n",
       "      <td>0</td>\n",
       "      <td>0</td>\n",
       "      <td>1</td>\n",
       "      <td>0</td>\n",
       "      <td>0</td>\n",
       "      <td>1</td>\n",
       "      <td>1</td>\n",
       "      <td>1</td>\n",
       "      <td>1</td>\n",
       "      <td>0</td>\n",
       "      <td>0</td>\n",
       "      <td>1</td>\n",
       "      <td>0</td>\n",
       "      <td>1</td>\n",
       "      <td>0</td>\n",
       "      <td>10.0</td>\n",
       "      <td>4</td>\n",
       "    </tr>\n",
       "    <tr>\n",
       "      <th>13</th>\n",
       "      <td>clam</td>\n",
       "      <td>0</td>\n",
       "      <td>0</td>\n",
       "      <td>1</td>\n",
       "      <td>0</td>\n",
       "      <td>0</td>\n",
       "      <td>0</td>\n",
       "      <td>1</td>\n",
       "      <td>0</td>\n",
       "      <td>0</td>\n",
       "      <td>0</td>\n",
       "      <td>0</td>\n",
       "      <td>0</td>\n",
       "      <td>0</td>\n",
       "      <td>0</td>\n",
       "      <td>0</td>\n",
       "      <td>7.0</td>\n",
       "      <td>7</td>\n",
       "    </tr>\n",
       "    <tr>\n",
       "      <th>14</th>\n",
       "      <td>crab</td>\n",
       "      <td>0</td>\n",
       "      <td>0</td>\n",
       "      <td>1</td>\n",
       "      <td>0</td>\n",
       "      <td>0</td>\n",
       "      <td>1</td>\n",
       "      <td>1</td>\n",
       "      <td>0</td>\n",
       "      <td>0</td>\n",
       "      <td>0</td>\n",
       "      <td>0</td>\n",
       "      <td>0</td>\n",
       "      <td>4</td>\n",
       "      <td>0</td>\n",
       "      <td>0</td>\n",
       "      <td>14.0</td>\n",
       "      <td>7</td>\n",
       "    </tr>\n",
       "  </tbody>\n",
       "</table>\n",
       "</div>"
      ],
      "text/plain": [
       "        Name  hair  feathers  eggs  milk  airbone  aquatic  predator  toothed  \\\n",
       "0   aardvark     1         0     0     1        0        0         1        1   \n",
       "1   antelope     1         0     0     1        0        0         0        1   \n",
       "2       bass     0         0     1     0        0        1         1        1   \n",
       "3       bear     1         0     0     1        0        0         1        1   \n",
       "4       boar     1         0     0     1        0        0         1        1   \n",
       "5    buffalo     1         0     0     1        0        0         0        1   \n",
       "6       calf     1         0     0     1        0        0         0        1   \n",
       "7       carp     0         0     1     0        0        1         0        1   \n",
       "8    catfish     0         0     1     0        0        1         1        1   \n",
       "9       cavy     1         0     0     1        0        0         0        1   \n",
       "10   cheetah     1         0     0     1        0        0         1        1   \n",
       "11   chicken     0         1     1     0        1        0         0        0   \n",
       "12      chub     0         0     1     0        0        1         1        1   \n",
       "13      clam     0         0     1     0        0        0         1        0   \n",
       "14      crab     0         0     1     0        0        1         1        0   \n",
       "\n",
       "    backbone  breathes  venomous  fins  legs  tail  domestic   size  type  \n",
       "0          1         1         0     0     4     0         0  115.0     1  \n",
       "1          1         1         0     0     4     1         0   75.0     1  \n",
       "2          1         0         0     1     0     1         0   40.0     4  \n",
       "3          1         1         0     0     4     0         0  210.0     1  \n",
       "4          1         1         0     0     4     1         0  120.0     1  \n",
       "5          1         1         0     0     4     1         0  280.0     1  \n",
       "6          1         1         0     0     4     1         1  100.0     1  \n",
       "7          1         0         0     1     0     1         1   60.0     4  \n",
       "8          1         0         0     1     0     1         0   12.0     4  \n",
       "9          1         1         0     0     4     0         1   45.0     1  \n",
       "10         1         1         0     0     4     1         0  140.0     1  \n",
       "11         1         1         0     0     2     1         1   30.0     2  \n",
       "12         1         0         0     1     0     1         0   10.0     4  \n",
       "13         0         0         0     0     0     0         0    7.0     7  \n",
       "14         0         0         0     0     4     0         0   14.0     7  "
      ]
     },
     "execution_count": 1,
     "metadata": {},
     "output_type": "execute_result"
    }
   ],
   "source": [
    "import pandas as pd\n",
    "import numpy as np\n",
    "zoo = pd.read_csv(\"./donnees/zoo.csv\")\n",
    "zoo.head(15)"
   ]
  },
  {
   "cell_type": "markdown",
   "id": "da85323a",
   "metadata": {},
   "source": [
    "Explorez le dataset `zoo`: Combien d'individus? Combien de descripteurs? Quelle est la nature (type) des descripteurs? Y-a-t'il des valeurs manquantes?"
   ]
  },
  {
   "cell_type": "code",
   "execution_count": 2,
   "id": "2063c96e",
   "metadata": {},
   "outputs": [
    {
     "data": {
      "text/plain": [
       "(100, 18)"
      ]
     },
     "execution_count": 2,
     "metadata": {},
     "output_type": "execute_result"
    }
   ],
   "source": [
    "zoo.shape\n",
    "#100 individus,\n",
    "\n",
    "#X = les individus, Un individu = une ligne\n",
    "#18 Descripteurs\n",
    "#Y => une colonne, la CLASSE => Trouver la colonne qui serait intéressante pour faire la prédiction\n",
    "#Ici, Y = colonne 'type'\n",
    "#La classe n'est pas considéré comme Descripteurs => Il y a donc 17 DESCRIPTEURS\n",
    "\n",
    "#Le nom n'est pas important pour la prédiction => ...."
   ]
  },
  {
   "cell_type": "markdown",
   "id": "1106c329",
   "metadata": {},
   "source": [
    "Dans ce dataset, la dernière colonne `type` correspond à la catégorie de l'animal :\n",
    "|  Type  |    Catégorie    |\n",
    "| :---------:|---------|\n",
    "| 1 |Mammifères|\n",
    "| 2 |Oiseaux|\n",
    "| 3 |Reptiles|\n",
    "| 4 |Poissons|\n",
    "| 5 |Amphibiens|\n",
    "| 6 |Insectes|\n",
    "| 7 |Invertébrés|\n",
    "\n",
    "Notre IA devra prédire la catégorie d'un animal à partir de sa description (sans le `Name`). Il s'agit donc d'une tâche de prédiction à **7 classes**."
   ]
  },
  {
   "cell_type": "markdown",
   "id": "bf7f141e",
   "metadata": {},
   "source": [
    "Observez la distribution des individus selon la variable de classe (`type`) et constatez le déséquilibre des classes. Cela aura-t'il une incidence sur la méthode de k-PPV?"
   ]
  },
  {
   "cell_type": "code",
   "execution_count": 3,
   "id": "7f9a0e44",
   "metadata": {},
   "outputs": [
    {
     "data": {
      "image/png": "[encoded data removed]",
      "text/plain": [
       "<Figure size 640x480 with 1 Axes>"
      ]
     },
     "metadata": {},
     "output_type": "display_data"
    }
   ],
   "source": [
    "import matplotlib.pyplot as plt\n",
    "labels, sizes = np.unique(zoo['type'], return_counts=True)\n",
    "plt.pie(sizes, labels=labels)\n",
    "plt.show()"
   ]
  },
  {
   "cell_type": "markdown",
   "id": "3e79c8e8",
   "metadata": {},
   "source": [
    "A partir du dataframe `zoo`, vous allez construire deux tableaux Numpy :\n",
    "- `X` est la matrice (100x16) des descriptions des individus\n",
    "- `y` est le vecteur contenant les (100) catégories d'animaux "
   ]
  },
  {
   "cell_type": "code",
   "execution_count": 4,
   "id": "7155e66a",
   "metadata": {},
   "outputs": [
    {
     "name": "stdout",
     "output_type": "stream",
     "text": [
      "(100, 16)\n",
      "(100,)\n"
     ]
    }
   ],
   "source": [
    "X = np.array(zoo.iloc[:, 1:-1])\n",
    "Y = np.array(zoo['type'])\n",
    "\n",
    "print(X.shape)\n",
    "print(Y.shape)"
   ]
  },
  {
   "cell_type": "markdown",
   "id": "c8169074",
   "metadata": {},
   "source": [
    "Nous allons à présent découper `X` et `y` en deux sous-ensembles :\n",
    "- `X_train` : qui contient des individus que la méthode k-PPV utilisera pour prédire\n",
    "- `X_test`  : qui contient des individus que nous utiliserons pour évaluer notre IA (et ainsi ajuster le paramètre k)\n",
    "- `y_train` : qui contient les labels des individus de `X_train`\n",
    "- `y_test`  : qui contient les labels des individus de `X_test`\n",
    "\n",
    "Ecrire une fonction (générique) `train_test_split(X, y, train_ratio)` qui réalise un tel découpage :"
   ]
  },
  {
   "cell_type": "code",
   "execution_count": 30,
   "id": "0187d83a",
   "metadata": {},
   "outputs": [],
   "source": [
    "def train_test_split(X, y, train_ratio):\n",
    "    \"\"\"découpe un dataset X en deux ensembles d'entraînement (train) et de test ainsi que les labels associés\n",
    "\n",
    "    Args:\n",
    "        X (matrice Numpy): le dataset à découper\n",
    "        y (vecteur Numpy): le vecteur des labels à découper\n",
    "        train_ratio (float): entre 0.0 et 1.0 = proportion du dataset à inclure dans l'ensemble d'entraînement (train)\n",
    "\n",
    "    Returns:\n",
    "        X_train (matrice Numpy): le sous-ensemble d'entraînement\n",
    "        X_test (matrice Numpy):  le sous-ensemble de test\n",
    "        y_train (vecteur Numpy): les labels données d'entraînement\n",
    "        y_test (vecteur Numpy):  les labels données de test\n",
    "\n",
    "    \"\"\"\n",
    "    #Randomiser les individus\n",
    "    #Découper sur ratio * nb individus\n",
    "    N = X.shape[0]\n",
    "    if N != y.shape[0]:\n",
    "        return None\n",
    "    if train_ratio > 1 or train_ratio < 0:\n",
    "        return None\n",
    "    ids = np.arange(N)\n",
    "    np.random.shuffle(ids)\n",
    "    nb_train = int(train_ratio * N)\n",
    "    train_ids, test_ids = ids[:nb_train], ids[nb_train:]\n",
    "    return X[train_ids,:], X[test_ids, :], y[train_ids], y[test_ids]\n",
    "    "
   ]
  },
  {
   "cell_type": "markdown",
   "id": "834cfd92",
   "metadata": {},
   "source": [
    "Utilisez votre fonction pour découper notre dataset `X` en deux sous-ensembles de mêmes tailles.\n",
    "\n",
    "Vérifiez que les déséquilibres des classes sont globalement respectés (relancez le découpage si certaines classes sont absentes dans l'un des deux sous-ensembles)."
   ]
  },
  {
   "cell_type": "code",
   "execution_count": 34,
   "id": "3d42b684",
   "metadata": {},
   "outputs": [
    {
     "name": "stdout",
     "output_type": "stream",
     "text": [
      "(50, 16)\n",
      "(50, 16)\n",
      "(array([1, 2, 3, 4, 5, 6, 7]), array([21, 10,  3,  5,  1,  4,  6]))\n",
      "(array([1, 2, 3, 4, 5, 6, 7]), array([20, 10,  2,  8,  2,  4,  4]))\n"
     ]
    }
   ],
   "source": [
    "X_train, X_test, y_train, y_test = train_test_split(X,Y, 0.5)\n",
    "\n",
    "print(X_train.shape)\n",
    "print(X_test.shape)\n",
    "\n",
    "print(np.unique(y_train, return_counts=True))\n",
    "print(np.unique(y_test, return_counts=True))"
   ]
  },
  {
   "cell_type": "markdown",
   "id": "71997f89",
   "metadata": {},
   "source": [
    "---"
   ]
  },
  {
   "cell_type": "markdown",
   "id": "9e305b1d",
   "metadata": {},
   "source": [
    "## B. Implémenter et évaluer la méthode k-PPV (non-pondérée)"
   ]
  },
  {
   "cell_type": "markdown",
   "id": "66c18c2e",
   "metadata": {},
   "source": [
    "Définissez une fonction `predict_kNN(k, X, y, x_new)` qui prédit la classe d'une description `x_new` par la méthodes k-PPV non-pondérée utilisée sur les données `X` de ayant pour labels `y` avec la distance Euclidienne."
   ]
  },
  {
   "cell_type": "code",
   "execution_count": 35,
   "id": "fcf443e8",
   "metadata": {},
   "outputs": [],
   "source": [
    "def predict_kNN(k, X, y, x_new):\n",
    "    \"\"\"implémente le classifieur du k-Plus Proches Voisins \n",
    "\n",
    "    Args:\n",
    "        k (int): nombre de voisins à utiliser pour prédire\n",
    "        X (matrice Numpy): le dataset des données d'entraînement\n",
    "        y (vecteur Numpy): le vecteur des labels des données d'entraînement\n",
    "        x_new (vecteur Numpy) : le vecteur de description d'une nouvelle donnée à classer\n",
    "\n",
    "    Returns:\n",
    "        y_new (label):  le label prédit\n",
    "\n",
    "    \"\"\"\n",
    "    distances = np.linalg.norm(X - x_new, axis = 1)\n",
    "    \n",
    "    ids_plus_proches_voisins = distances.argsort()[:k]\n",
    "    class_plus_proches_voisins = y[ids_plus_proches_voisins]\n",
    "    labels, counts = np.unique(class_plus_proches_voisins, return_counts=True)\n",
    "    return labels[counts.argsort()[-1]]"
   ]
  },
  {
   "cell_type": "markdown",
   "id": "457fb490",
   "metadata": {},
   "source": [
    "Utilisez la fonction `predict_kNN` pour prédire la classe de l'individu situé à l'indice 23 dans `X_test` à partir des données d'entraînement (`X_train`, `y_train`). Affichez la classe prédite selon différentes valeurs de `k` et comparez avec la vraie classe de l'individu (`y_test[23]`). "
   ]
  },
  {
   "cell_type": "code",
   "execution_count": 36,
   "id": "92876e7c",
   "metadata": {},
   "outputs": [
    {
     "name": "stdout",
     "output_type": "stream",
     "text": [
      "2\n",
      "[2, 2, 3, 7, 1, 1, 1, 1, 1, 1, 1, 1, 1, 1, 1, 1, 1, 1, 1, 1]\n"
     ]
    }
   ],
   "source": [
    "i = 23\n",
    "print(Y[i])\n",
    "print([predict_kNN(k, X_train, y_train, X_test[i]) for k in range(1, 21)])"
   ]
  },
  {
   "cell_type": "markdown",
   "id": "2e3838f7",
   "metadata": {},
   "source": [
    "Définissez une fonction `error_kNN(k, X_train, y_train, X_test, y_test)` qui renvoie le taux d'erreur de prédiction de la méthode k-PPV sur des données de test. "
   ]
  },
  {
   "cell_type": "code",
   "execution_count": 40,
   "id": "708c13e3",
   "metadata": {},
   "outputs": [],
   "source": [
    "def error_kNN(k, X_train, y_train, X_test, y_test,):\n",
    "    \"\"\"calcule le taux d'erreur de prédiction par k-PPV sur les données de test \n",
    "\n",
    "    Args:\n",
    "        k (int): nombre de voisins à utiliser pour prédire\n",
    "        X_train (matrice Numpy): le dataset des données d'entraînement\n",
    "        y_train (vecteur Numpy): le vecteur des labels des données d'entraînement\n",
    "        X_test (vecteur Numpy) : le dataset des données de test\n",
    "        y_test (vecteur Numpy): le vecteur des labels des données de test\n",
    "\n",
    "\n",
    "    Returns:\n",
    "        error_rate (float):  le taux d'erreur de prédiciton (Nb. mauvaises prédictions / Nb. prédictions)\n",
    "\n",
    "    \"\"\"\n",
    "    predictions = [predict_kNN(k, X_train, y_train, X_test[i, :]) for i in range(len(y_test))]\n",
    "    return 1 - sum(predictions==y_test) / len(y_test)"
   ]
  },
  {
   "cell_type": "markdown",
   "id": "681e0848",
   "metadata": {},
   "source": [
    "Tracez la courbe du taux d'erreur en fonction du paramètre `k`. Quelle valeur choisirez-vous pour `k`? Est-ce que votre classifieur vous semble performant?"
   ]
  },
  {
   "cell_type": "code",
   "execution_count": 41,
   "id": "4fcc8116",
   "metadata": {},
   "outputs": [
    {
     "data": {
      "image/png": "[encoded data removed]",
      "text/plain": [
       "<Figure size 640x480 with 1 Axes>"
      ]
     },
     "metadata": {},
     "output_type": "display_data"
    }
   ],
   "source": [
    "errors = [error_kNN(k, X_train, y_train, X_test, y_test) for k in range(1, 21)]\n",
    "plt.plot(range(1,21), errors)\n",
    "plt.show()"
   ]
  },
  {
   "cell_type": "markdown",
   "id": "02e15347",
   "metadata": {},
   "source": [
    "Avant de conclure (trop vite!)... quel serait le taux d'erreur d'un classifieur k-PPV qui fonderait ses prédictions sur la taille des animaux uniquement (descripteur `size`)?"
   ]
  },
  {
   "cell_type": "code",
   "execution_count": 43,
   "id": "cafdfe3d",
   "metadata": {},
   "outputs": [
    {
     "data": {
      "image/png": "[encoded data removed]",
      "text/plain": [
       "<Figure size 640x480 with 1 Axes>"
      ]
     },
     "metadata": {},
     "output_type": "display_data"
    }
   ],
   "source": [
    "errors_2 = [error_kNN(k, X_train[:, -1].reshape(50,1), y_train, X_test[:, -1].reshape(50,1), y_test) for k in range(1, 21)]\n",
    "plt.plot(range(1, 21), errors, label=\"Erreur avec 16 descripteurs\")\n",
    "plt.plot(range(1, 21), errors_2, label=\"Erreur avec 1 descripteur\")\n",
    "plt.legend()\n",
    "plt.show()"
   ]
  },
  {
   "cell_type": "markdown",
   "id": "ecbafa59",
   "metadata": {},
   "source": [
    "## C. Normaliser les données"
   ]
  },
  {
   "cell_type": "markdown",
   "id": "a9d9d581",
   "metadata": {},
   "source": [
    "Vous avez constaté que tous les descriteurs n'ont pas la même influence dans le calcul des distances entre individus, du fait de l'amplitude des valeurs associée à chaque descripteurs.\n",
    "\n",
    "Pour faire en sorte que chaque descripteur ait la même influence dans le traitement du tableau de données, on procède à une **normalisation** des données. \n",
    "\n",
    "> Normaliser un ensemble $Z$ consiste à ramener toutes ses valeurs dans l'intervalle $[0,1]$ par l'opération : $$\\tilde{z}_{i}=\\frac{z_{i}-min_Z}{max_Z-min_Z}$$\n",
    ">"
   ]
  },
  {
   "cell_type": "markdown",
   "id": "dc43420a",
   "metadata": {},
   "source": [
    "Complétez la classe `Normalizer` ci-dessous qui définit un **outil** de normalisation d'un jeu de données. La normalisation d'un jeu de données procédera en deux temps :\n",
    "- calcul des paramètres de la fonction de normalisation sur des données (méthode `.fit()`)\n",
    "- application de la fonction de normalisation sur des données (méthode `.transform()`)"
   ]
  },
  {
   "cell_type": "code",
   "execution_count": 44,
   "id": "04d0a423",
   "metadata": {},
   "outputs": [],
   "source": [
    "class Normalizer:\n",
    "    \n",
    "    min = None\n",
    "    max = None\n",
    "    \n",
    "    def fit(self, X):\n",
    "        \"\"\"calcule les min et max de chaque colonne de X\"\"\"\n",
    "        self.min = X.min(axis=0)\n",
    "        self.max = X.max(axis=0)\n",
    "        \n",
    "    def transform(self, X):\n",
    "        \"\"\"renvoie X normalisé\"\"\"\n",
    "        if self.min is not None and self.max is not None:\n",
    "            return (X - self.min) / (self.max - self.min)"
   ]
  },
  {
   "cell_type": "markdown",
   "id": "94e0bceb",
   "metadata": {},
   "source": [
    "Appliquez la normalisation sur l'ensemble des individus (100 descriptions) puis comparez l'erreur faite par la méthode des k-PPV avant et après normalisation. Concluez sur l'utilité de cette étape de normalisation."
   ]
  },
  {
   "cell_type": "code",
   "execution_count": 45,
   "id": "65bcbbcc",
   "metadata": {},
   "outputs": [],
   "source": [
    "norm = Normalizer()\n",
    "norm.fit(X)"
   ]
  },
  {
   "cell_type": "code",
   "execution_count": 46,
   "id": "95d7149f",
   "metadata": {},
   "outputs": [],
   "source": [
    "X_train_norm = norm.transform(X_train)\n",
    "X_test_norm = norm.transform(X_test)"
   ]
  },
  {
   "cell_type": "code",
   "execution_count": 48,
   "id": "f5fe2ab4",
   "metadata": {},
   "outputs": [
    {
     "data": {
      "image/png": "[encoded data removed]",
      "text/plain": [
       "<Figure size 640x480 with 1 Axes>"
      ]
     },
     "metadata": {},
     "output_type": "display_data"
    }
   ],
   "source": [
    "errors_norm = [error_kNN(k, X_train_norm, y_train, X_test_norm, y_test) for k in range(1, 21)]\n",
    "plt.plot(range(1, 21), errors, label = \"Données brutes\")\n",
    "plt.plot(range(1, 21), errors_norm, label = \"Données normalisées\")\n",
    "plt.legend()\n",
    "plt.show()"
   ]
  },
  {
   "cell_type": "markdown",
   "id": "44f2c3b9",
   "metadata": {},
   "source": [
    "## D. Implémenter et évaluer la méthode k-PPV pondérée"
   ]
  },
  {
   "cell_type": "markdown",
   "id": "e102f2b6",
   "metadata": {},
   "source": [
    "Implémentez la variante pondérée de la méthode k-PPV dans une version généralisée de la fonction `predict_kNN(k, X, y, x_new, weights)`"
   ]
  },
  {
   "cell_type": "code",
   "execution_count": 57,
   "id": "9dd119bd",
   "metadata": {},
   "outputs": [],
   "source": [
    "def predict_kNN(k, X, y, x_new, weights='uniform'):\n",
    "    \"\"\"implémente le classifieur du k-Plus Proches Voisins \n",
    "\n",
    "    Args:\n",
    "        k (int): nombre de voisins à utiliser pour prédire\n",
    "        X (matrice Numpy): le dataset des données d'entraînement\n",
    "        y (vecteur Numpy): le vecteur des labels des données d'entraînement\n",
    "        x_new (vecteur Numpy) : le vecteur de description d'une nouvelle donnée à classer\n",
    "        weights ('uniform', 'distance') : méthode de pondération utilisée pour la prédiction\n",
    "\n",
    "    Returns:\n",
    "        y_new (label):  le label prédit\n",
    "\n",
    "    \"\"\"\n",
    "    distances = np.linalg.norm(X - x_new, axis=1)\n",
    "    ids_plus_proches_voisins = y[ids_plus_proches_voisins]\n",
    "    if weights == 'uniform':\n",
    "        w = np.ones(k)\n",
    "    elif weights == 'distance':\n",
    "        epsilon = 10e-10\n",
    "        w = 1/(distances[ids_plus_proches_voisins] - epsilon)\n",
    "    counts = np.bincount(classes_plus_proches_voisins, weights = w)\n",
    "    return counts.argsort()[-1]"
   ]
  },
  {
   "cell_type": "markdown",
   "id": "5f1d3357",
   "metadata": {},
   "source": [
    "version pondérée = on calcul en plus le poids"
   ]
  },
  {
   "cell_type": "markdown",
   "id": "e2d64239",
   "metadata": {},
   "source": [
    "Généralisez également la fonction d'évaluation `error_kNN(k, X_train, y_train, X_test, y_test, weights)` avec l'argument supplémentaire `weights`"
   ]
  },
  {
   "cell_type": "code",
   "execution_count": 58,
   "id": "092161c6",
   "metadata": {},
   "outputs": [],
   "source": [
    "def error_kNN(k, X_train, y_train, X_test, y_test, weights='uniform'):\n",
    "    \"\"\"calcule le taux d'erreur de prédiction par k-PPV sur les données de test \n",
    "\n",
    "    Args:\n",
    "        k (int): nombre de voisins à utiliser pour prédire\n",
    "        X_train (matrice Numpy): le dataset des données d'entraînement\n",
    "        y_train (vecteur Numpy): le vecteur des labels des données d'entraînement\n",
    "        X_test (vecteur Numpy) : le dataset des données de test\n",
    "        y_test (vecteur Numpy): le vecteur des labels des données de test\n",
    "        weights ('uniform', 'distance') : méthode de pondération utilisée dans k-PPV\n",
    "\n",
    "\n",
    "    Returns:\n",
    "        error_rate (float):  le taux d'erreur de prédiciton (Nb. mauvaises prédictions / Nb. prédictions)\n",
    "\n",
    "    \"\"\"\n",
    "    predictions = [predict_kNN(k, X_train, y_train, X_test[i, :], weights=weights) for i in range(len(y_test))]\n",
    "    return 1 - sum(predictions==y_test) / len(y_test)"
   ]
  },
  {
   "cell_type": "markdown",
   "id": "8d030161",
   "metadata": {},
   "source": [
    "Enfin, comparez l'erreur faite par chacune des deux versions de la méthode k-PPV (pondérée ou non)."
   ]
  },
  {
   "cell_type": "code",
   "execution_count": 59,
   "id": "ea833347",
   "metadata": {},
   "outputs": [
    {
     "ename": "UnboundLocalError",
     "evalue": "cannot access local variable 'ids_plus_proches_voisins' where it is not associated with a value",
     "output_type": "error",
     "traceback": [
      "\u001b[0;31m---------------------------------------------------------------------------\u001b[0m",
      "\u001b[0;31mUnboundLocalError\u001b[0m                         Traceback (most recent call last)",
      "Cell \u001b[0;32mIn[59], line 1\u001b[0m\n\u001b[0;32m----> 1\u001b[0m error_unifor \u001b[38;5;241m=\u001b[39m [\u001b[43merror_kNN\u001b[49m\u001b[43m(\u001b[49m\u001b[43mk\u001b[49m\u001b[43m,\u001b[49m\u001b[43m \u001b[49m\u001b[43mX_train_norm\u001b[49m\u001b[43m,\u001b[49m\u001b[43m \u001b[49m\u001b[43my_train\u001b[49m\u001b[43m,\u001b[49m\u001b[43m \u001b[49m\u001b[43mX_test_norm\u001b[49m\u001b[43m,\u001b[49m\u001b[43m \u001b[49m\u001b[43my_test\u001b[49m\u001b[43m)\u001b[49m \u001b[38;5;28;01mfor\u001b[39;00m k \u001b[38;5;129;01min\u001b[39;00m \u001b[38;5;28mrange\u001b[39m(\u001b[38;5;241m1\u001b[39m, \u001b[38;5;241m21\u001b[39m)]\n\u001b[1;32m      2\u001b[0m error_weighted \u001b[38;5;241m=\u001b[39m [error_kNN(k, X_train_norm, y_train, X_test_norm, y_test, weights\u001b[38;5;241m=\u001b[39m\u001b[38;5;124m'\u001b[39m\u001b[38;5;124mdistance\u001b[39m\u001b[38;5;124m'\u001b[39m) \u001b[38;5;28;01mfor\u001b[39;00m k \u001b[38;5;129;01min\u001b[39;00m \u001b[38;5;28mrange\u001b[39m(\u001b[38;5;241m1\u001b[39m, \u001b[38;5;241m21\u001b[39m)]\n\u001b[1;32m      3\u001b[0m plt\u001b[38;5;241m.\u001b[39mplot(\u001b[38;5;28mrange\u001b[39m(\u001b[38;5;241m1\u001b[39m, \u001b[38;5;241m21\u001b[39m), error_unifor, label\u001b[38;5;241m=\u001b[39m\u001b[38;5;124m\"\u001b[39m\u001b[38;5;124mK-PPV uniforme\u001b[39m\u001b[38;5;124m\"\u001b[39m)\n",
      "Cell \u001b[0;32mIn[58], line 17\u001b[0m, in \u001b[0;36merror_kNN\u001b[0;34m(k, X_train, y_train, X_test, y_test, weights)\u001b[0m\n\u001b[1;32m      1\u001b[0m \u001b[38;5;28;01mdef\u001b[39;00m \u001b[38;5;21merror_kNN\u001b[39m(k, X_train, y_train, X_test, y_test, weights\u001b[38;5;241m=\u001b[39m\u001b[38;5;124m'\u001b[39m\u001b[38;5;124muniform\u001b[39m\u001b[38;5;124m'\u001b[39m):\n\u001b[1;32m      2\u001b[0m \u001b[38;5;250m    \u001b[39m\u001b[38;5;124;03m\"\"\"calcule le taux d'erreur de prédiction par k-PPV sur les données de test \u001b[39;00m\n\u001b[1;32m      3\u001b[0m \n\u001b[1;32m      4\u001b[0m \u001b[38;5;124;03m    Args:\u001b[39;00m\n\u001b[0;32m   (...)\u001b[0m\n\u001b[1;32m     15\u001b[0m \n\u001b[1;32m     16\u001b[0m \u001b[38;5;124;03m    \"\"\"\u001b[39;00m\n\u001b[0;32m---> 17\u001b[0m     predictions \u001b[38;5;241m=\u001b[39m [\u001b[43mpredict_kNN\u001b[49m\u001b[43m(\u001b[49m\u001b[43mk\u001b[49m\u001b[43m,\u001b[49m\u001b[43m \u001b[49m\u001b[43mX_train\u001b[49m\u001b[43m,\u001b[49m\u001b[43m \u001b[49m\u001b[43my_train\u001b[49m\u001b[43m,\u001b[49m\u001b[43m \u001b[49m\u001b[43mX_test\u001b[49m\u001b[43m[\u001b[49m\u001b[43mi\u001b[49m\u001b[43m,\u001b[49m\u001b[43m \u001b[49m\u001b[43m:\u001b[49m\u001b[43m]\u001b[49m\u001b[43m,\u001b[49m\u001b[43m \u001b[49m\u001b[43mweights\u001b[49m\u001b[38;5;241;43m=\u001b[39;49m\u001b[43mweights\u001b[49m\u001b[43m)\u001b[49m \u001b[38;5;28;01mfor\u001b[39;00m i \u001b[38;5;129;01min\u001b[39;00m \u001b[38;5;28mrange\u001b[39m(\u001b[38;5;28mlen\u001b[39m(y_test))]\n\u001b[1;32m     18\u001b[0m     \u001b[38;5;28;01mreturn\u001b[39;00m \u001b[38;5;241m1\u001b[39m \u001b[38;5;241m-\u001b[39m \u001b[38;5;28msum\u001b[39m(predictions\u001b[38;5;241m==\u001b[39my_test) \u001b[38;5;241m/\u001b[39m \u001b[38;5;28mlen\u001b[39m(y_test)\n",
      "Cell \u001b[0;32mIn[57], line 16\u001b[0m, in \u001b[0;36mpredict_kNN\u001b[0;34m(k, X, y, x_new, weights)\u001b[0m\n\u001b[1;32m      2\u001b[0m \u001b[38;5;250m\u001b[39m\u001b[38;5;124;03m\"\"\"implémente le classifieur du k-Plus Proches Voisins \u001b[39;00m\n\u001b[1;32m      3\u001b[0m \n\u001b[1;32m      4\u001b[0m \u001b[38;5;124;03mArgs:\u001b[39;00m\n\u001b[0;32m   (...)\u001b[0m\n\u001b[1;32m     13\u001b[0m \n\u001b[1;32m     14\u001b[0m \u001b[38;5;124;03m\"\"\"\u001b[39;00m\n\u001b[1;32m     15\u001b[0m distances \u001b[38;5;241m=\u001b[39m np\u001b[38;5;241m.\u001b[39mlinalg\u001b[38;5;241m.\u001b[39mnorm(X \u001b[38;5;241m-\u001b[39m x_new, axis\u001b[38;5;241m=\u001b[39m\u001b[38;5;241m1\u001b[39m)\n\u001b[0;32m---> 16\u001b[0m ids_plus_proches_voisins \u001b[38;5;241m=\u001b[39m y[\u001b[43mids_plus_proches_voisins\u001b[49m]\n\u001b[1;32m     17\u001b[0m \u001b[38;5;28;01mif\u001b[39;00m weights \u001b[38;5;241m==\u001b[39m \u001b[38;5;124m'\u001b[39m\u001b[38;5;124muniform\u001b[39m\u001b[38;5;124m'\u001b[39m:\n\u001b[1;32m     18\u001b[0m     w \u001b[38;5;241m=\u001b[39m np\u001b[38;5;241m.\u001b[39mones(k)\n",
      "\u001b[0;31mUnboundLocalError\u001b[0m: cannot access local variable 'ids_plus_proches_voisins' where it is not associated with a value"
     ]
    }
   ],
   "source": [
    "error_unifor = [error_kNN(k, X_train_norm, y_train, X_test_norm, y_test) for k in range(1, 21)]\n",
    "error_weighted = [error_kNN(k, X_train_norm, y_train, X_test_norm, y_test, weights='distance') for k in range(1, 21)]\n",
    "plt.plot(range(1, 21), error_unifor, label=\"K-PPV uniforme\")\n",
    "plt.plot(range(1, 21), error_weighted, label=\"K-PPV pondéré\")\n",
    "plt.legend()\n",
    "plt.show()"
   ]
  },
  {
   "cell_type": "code",
   "execution_count": null,
   "id": "e794bc03",
   "metadata": {},
   "outputs": [],
   "source": []
  },
  {
   "cell_type": "code",
   "execution_count": null,
   "id": "d3201ff1",
   "metadata": {},
   "outputs": [],
   "source": []
  }
 ],
 "metadata": {
  "kernelspec": {
   "display_name": "Python 3 (ipykernel)",
   "language": "python",
   "name": "python3"
  },
  "language_info": {
   "codemirror_mode": {
    "name": "ipython",
    "version": 3
   },
   "file_extension": ".py",
   "mimetype": "text/x-python",
   "name": "python",
   "nbconvert_exporter": "python",
   "pygments_lexer": "ipython3",
   "version": "3.12.3"
  },
  "vscode": {
   "interpreter": {
    "hash": "aee8b7b246df8f9039afb4144a1f6fd8d2ca17a180786b69acc140d282b71a49"
   }
  }
 },
 "nbformat": 4,
 "nbformat_minor": 5
}
